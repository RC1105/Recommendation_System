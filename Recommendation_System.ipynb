{
  "nbformat": 4,
  "nbformat_minor": 0,
  "metadata": {
    "colab": {
      "provenance": []
    },
    "kernelspec": {
      "name": "python3",
      "display_name": "Python 3"
    },
    "language_info": {
      "name": "python"
    }
  },
  "cells": [
    {
      "cell_type": "code",
      "execution_count": null,
      "metadata": {
        "id": "LDryUUGbXZC5"
      },
      "outputs": [],
      "source": [
        "import pandas as pd\n",
        "import numpy as  np\n",
        "import matplotlib.pyplot as plt"
      ]
    },
    {
      "cell_type": "markdown",
      "source": [
        "DATASET"
      ],
      "metadata": {
        "id": "PUTV6s7cpWOz"
      }
    },
    {
      "cell_type": "code",
      "source": [
        "df=pd.read_csv(\"one.csv\")\n",
        "df.head()"
      ],
      "metadata": {
        "colab": {
          "base_uri": "https://localhost:8080/",
          "height": 206
        },
        "id": "_plFQfbOXsQa",
        "outputId": "f2983b3a-e3fd-455e-f58a-8ba8d2dd0b6f"
      },
      "execution_count": null,
      "outputs": [
        {
          "output_type": "execute_result",
          "data": {
            "text/plain": [
              "               Food      Type  Price  Rating\n",
              "0     Chilli Potato  Starters    180     4.0\n",
              "1       Mushroom 65  Starters    200     4.6\n",
              "2  Hara Bhara Kebab  Starters    180     4.8\n",
              "3      Paneer Tikka  Starters    220     4.9\n",
              "4       Crispy Corn  Starters    160     4.4"
            ],
            "text/html": [
              "\n",
              "\n",
              "  <div id=\"df-f2374a7c-6c51-4444-a22c-8cc5bfbb1c91\">\n",
              "    <div class=\"colab-df-container\">\n",
              "      <div>\n",
              "<style scoped>\n",
              "    .dataframe tbody tr th:only-of-type {\n",
              "        vertical-align: middle;\n",
              "    }\n",
              "\n",
              "    .dataframe tbody tr th {\n",
              "        vertical-align: top;\n",
              "    }\n",
              "\n",
              "    .dataframe thead th {\n",
              "        text-align: right;\n",
              "    }\n",
              "</style>\n",
              "<table border=\"1\" class=\"dataframe\">\n",
              "  <thead>\n",
              "    <tr style=\"text-align: right;\">\n",
              "      <th></th>\n",
              "      <th>Food</th>\n",
              "      <th>Type</th>\n",
              "      <th>Price</th>\n",
              "      <th>Rating</th>\n",
              "    </tr>\n",
              "  </thead>\n",
              "  <tbody>\n",
              "    <tr>\n",
              "      <th>0</th>\n",
              "      <td>Chilli Potato</td>\n",
              "      <td>Starters</td>\n",
              "      <td>180</td>\n",
              "      <td>4.0</td>\n",
              "    </tr>\n",
              "    <tr>\n",
              "      <th>1</th>\n",
              "      <td>Mushroom 65</td>\n",
              "      <td>Starters</td>\n",
              "      <td>200</td>\n",
              "      <td>4.6</td>\n",
              "    </tr>\n",
              "    <tr>\n",
              "      <th>2</th>\n",
              "      <td>Hara Bhara Kebab</td>\n",
              "      <td>Starters</td>\n",
              "      <td>180</td>\n",
              "      <td>4.8</td>\n",
              "    </tr>\n",
              "    <tr>\n",
              "      <th>3</th>\n",
              "      <td>Paneer Tikka</td>\n",
              "      <td>Starters</td>\n",
              "      <td>220</td>\n",
              "      <td>4.9</td>\n",
              "    </tr>\n",
              "    <tr>\n",
              "      <th>4</th>\n",
              "      <td>Crispy Corn</td>\n",
              "      <td>Starters</td>\n",
              "      <td>160</td>\n",
              "      <td>4.4</td>\n",
              "    </tr>\n",
              "  </tbody>\n",
              "</table>\n",
              "</div>\n",
              "      <button class=\"colab-df-convert\" onclick=\"convertToInteractive('df-f2374a7c-6c51-4444-a22c-8cc5bfbb1c91')\"\n",
              "              title=\"Convert this dataframe to an interactive table.\"\n",
              "              style=\"display:none;\">\n",
              "\n",
              "  <svg xmlns=\"http://www.w3.org/2000/svg\" height=\"24px\"viewBox=\"0 0 24 24\"\n",
              "       width=\"24px\">\n",
              "    <path d=\"M0 0h24v24H0V0z\" fill=\"none\"/>\n",
              "    <path d=\"M18.56 5.44l.94 2.06.94-2.06 2.06-.94-2.06-.94-.94-2.06-.94 2.06-2.06.94zm-11 1L8.5 8.5l.94-2.06 2.06-.94-2.06-.94L8.5 2.5l-.94 2.06-2.06.94zm10 10l.94 2.06.94-2.06 2.06-.94-2.06-.94-.94-2.06-.94 2.06-2.06.94z\"/><path d=\"M17.41 7.96l-1.37-1.37c-.4-.4-.92-.59-1.43-.59-.52 0-1.04.2-1.43.59L10.3 9.45l-7.72 7.72c-.78.78-.78 2.05 0 2.83L4 21.41c.39.39.9.59 1.41.59.51 0 1.02-.2 1.41-.59l7.78-7.78 2.81-2.81c.8-.78.8-2.07 0-2.86zM5.41 20L4 18.59l7.72-7.72 1.47 1.35L5.41 20z\"/>\n",
              "  </svg>\n",
              "      </button>\n",
              "\n",
              "\n",
              "\n",
              "    <div id=\"df-09c05adb-ac9e-4722-bdc8-6643c1716896\">\n",
              "      <button class=\"colab-df-quickchart\" onclick=\"quickchart('df-09c05adb-ac9e-4722-bdc8-6643c1716896')\"\n",
              "              title=\"Suggest charts.\"\n",
              "              style=\"display:none;\">\n",
              "\n",
              "<svg xmlns=\"http://www.w3.org/2000/svg\" height=\"24px\"viewBox=\"0 0 24 24\"\n",
              "     width=\"24px\">\n",
              "    <g>\n",
              "        <path d=\"M19 3H5c-1.1 0-2 .9-2 2v14c0 1.1.9 2 2 2h14c1.1 0 2-.9 2-2V5c0-1.1-.9-2-2-2zM9 17H7v-7h2v7zm4 0h-2V7h2v10zm4 0h-2v-4h2v4z\"/>\n",
              "    </g>\n",
              "</svg>\n",
              "      </button>\n",
              "    </div>\n",
              "\n",
              "<style>\n",
              "  .colab-df-quickchart {\n",
              "    background-color: #E8F0FE;\n",
              "    border: none;\n",
              "    border-radius: 50%;\n",
              "    cursor: pointer;\n",
              "    display: none;\n",
              "    fill: #1967D2;\n",
              "    height: 32px;\n",
              "    padding: 0 0 0 0;\n",
              "    width: 32px;\n",
              "  }\n",
              "\n",
              "  .colab-df-quickchart:hover {\n",
              "    background-color: #E2EBFA;\n",
              "    box-shadow: 0px 1px 2px rgba(60, 64, 67, 0.3), 0px 1px 3px 1px rgba(60, 64, 67, 0.15);\n",
              "    fill: #174EA6;\n",
              "  }\n",
              "\n",
              "  [theme=dark] .colab-df-quickchart {\n",
              "    background-color: #3B4455;\n",
              "    fill: #D2E3FC;\n",
              "  }\n",
              "\n",
              "  [theme=dark] .colab-df-quickchart:hover {\n",
              "    background-color: #434B5C;\n",
              "    box-shadow: 0px 1px 3px 1px rgba(0, 0, 0, 0.15);\n",
              "    filter: drop-shadow(0px 1px 2px rgba(0, 0, 0, 0.3));\n",
              "    fill: #FFFFFF;\n",
              "  }\n",
              "</style>\n",
              "\n",
              "    <script>\n",
              "      async function quickchart(key) {\n",
              "        const containerElement = document.querySelector('#' + key);\n",
              "        const charts = await google.colab.kernel.invokeFunction(\n",
              "            'suggestCharts', [key], {});\n",
              "      }\n",
              "    </script>\n",
              "\n",
              "      <script>\n",
              "\n",
              "function displayQuickchartButton(domScope) {\n",
              "  let quickchartButtonEl =\n",
              "    domScope.querySelector('#df-09c05adb-ac9e-4722-bdc8-6643c1716896 button.colab-df-quickchart');\n",
              "  quickchartButtonEl.style.display =\n",
              "    google.colab.kernel.accessAllowed ? 'block' : 'none';\n",
              "}\n",
              "\n",
              "        displayQuickchartButton(document);\n",
              "      </script>\n",
              "      <style>\n",
              "    .colab-df-container {\n",
              "      display:flex;\n",
              "      flex-wrap:wrap;\n",
              "      gap: 12px;\n",
              "    }\n",
              "\n",
              "    .colab-df-convert {\n",
              "      background-color: #E8F0FE;\n",
              "      border: none;\n",
              "      border-radius: 50%;\n",
              "      cursor: pointer;\n",
              "      display: none;\n",
              "      fill: #1967D2;\n",
              "      height: 32px;\n",
              "      padding: 0 0 0 0;\n",
              "      width: 32px;\n",
              "    }\n",
              "\n",
              "    .colab-df-convert:hover {\n",
              "      background-color: #E2EBFA;\n",
              "      box-shadow: 0px 1px 2px rgba(60, 64, 67, 0.3), 0px 1px 3px 1px rgba(60, 64, 67, 0.15);\n",
              "      fill: #174EA6;\n",
              "    }\n",
              "\n",
              "    [theme=dark] .colab-df-convert {\n",
              "      background-color: #3B4455;\n",
              "      fill: #D2E3FC;\n",
              "    }\n",
              "\n",
              "    [theme=dark] .colab-df-convert:hover {\n",
              "      background-color: #434B5C;\n",
              "      box-shadow: 0px 1px 3px 1px rgba(0, 0, 0, 0.15);\n",
              "      filter: drop-shadow(0px 1px 2px rgba(0, 0, 0, 0.3));\n",
              "      fill: #FFFFFF;\n",
              "    }\n",
              "  </style>\n",
              "\n",
              "      <script>\n",
              "        const buttonEl =\n",
              "          document.querySelector('#df-f2374a7c-6c51-4444-a22c-8cc5bfbb1c91 button.colab-df-convert');\n",
              "        buttonEl.style.display =\n",
              "          google.colab.kernel.accessAllowed ? 'block' : 'none';\n",
              "\n",
              "        async function convertToInteractive(key) {\n",
              "          const element = document.querySelector('#df-f2374a7c-6c51-4444-a22c-8cc5bfbb1c91');\n",
              "          const dataTable =\n",
              "            await google.colab.kernel.invokeFunction('convertToInteractive',\n",
              "                                                     [key], {});\n",
              "          if (!dataTable) return;\n",
              "\n",
              "          const docLinkHtml = 'Like what you see? Visit the ' +\n",
              "            '<a target=\"_blank\" href=https://colab.research.google.com/notebooks/data_table.ipynb>data table notebook</a>'\n",
              "            + ' to learn more about interactive tables.';\n",
              "          element.innerHTML = '';\n",
              "          dataTable['output_type'] = 'display_data';\n",
              "          await google.colab.output.renderOutput(dataTable, element);\n",
              "          const docLink = document.createElement('div');\n",
              "          docLink.innerHTML = docLinkHtml;\n",
              "          element.appendChild(docLink);\n",
              "        }\n",
              "      </script>\n",
              "    </div>\n",
              "  </div>\n"
            ]
          },
          "metadata": {},
          "execution_count": 2
        }
      ]
    },
    {
      "cell_type": "markdown",
      "source": [
        "THE NUMBERS #EDA"
      ],
      "metadata": {
        "id": "6xMxhKoXpZSW"
      }
    },
    {
      "cell_type": "code",
      "source": [
        "len(df)"
      ],
      "metadata": {
        "colab": {
          "base_uri": "https://localhost:8080/"
        },
        "id": "E8CBhHkXaKGu",
        "outputId": "1d7ce1cd-abe5-4e32-980a-c2480d9f7e09"
      },
      "execution_count": null,
      "outputs": [
        {
          "output_type": "execute_result",
          "data": {
            "text/plain": [
              "60"
            ]
          },
          "metadata": {},
          "execution_count": 16
        }
      ]
    },
    {
      "cell_type": "code",
      "source": [
        "print(\"Price Range\")\n",
        "print(\"Mean Price:\",df['Price'].mean())\n",
        "print(\"Maximum Price:\",df['Price'].max())\n",
        "print(\"Minimum Price:\",df['Price'].min())\n"
      ],
      "metadata": {
        "colab": {
          "base_uri": "https://localhost:8080/"
        },
        "id": "9P1VUHcZYYAm",
        "outputId": "c1bb8451-652a-4943-f72a-c3611daffd02"
      },
      "execution_count": null,
      "outputs": [
        {
          "output_type": "stream",
          "name": "stdout",
          "text": [
            "Price Range\n",
            "Mean Price: 112.83333333333333\n",
            "Maximum Price: 220\n",
            "Minimum Price: 15\n"
          ]
        }
      ]
    },
    {
      "cell_type": "code",
      "source": [
        "print(\"Ratings\")\n",
        "print(\"Mean Rating:\",df['Rating'].mean())\n",
        "print(\"Maximum Rating:\",df['Rating'].max())\n",
        "print(\"Minimum Rating:\",df['Rating'].min())"
      ],
      "metadata": {
        "colab": {
          "base_uri": "https://localhost:8080/"
        },
        "id": "bNqc4yMkY3_X",
        "outputId": "f2b859b6-1d31-49db-eb4f-b2b6808916ec"
      },
      "execution_count": null,
      "outputs": [
        {
          "output_type": "stream",
          "name": "stdout",
          "text": [
            "Ratings\n",
            "Mean Rating: 4.65\n",
            "Maximum Rating: 5.0\n",
            "Minimum Rating: 3.0\n"
          ]
        }
      ]
    },
    {
      "cell_type": "markdown",
      "source": [
        "CUISINES"
      ],
      "metadata": {
        "id": "fBBZYxFPplfh"
      }
    },
    {
      "cell_type": "code",
      "source": [
        "s=set()\n",
        "for ls in df.values:\n",
        "  s.add(ls[1])\n"
      ],
      "metadata": {
        "id": "3EBxLjlKY6hq"
      },
      "execution_count": null,
      "outputs": []
    },
    {
      "cell_type": "code",
      "source": [
        "s"
      ],
      "metadata": {
        "colab": {
          "base_uri": "https://localhost:8080/"
        },
        "id": "tgONWKZcawtB",
        "outputId": "f20bfbbe-13a1-4e20-d731-3cf7074c5040"
      },
      "execution_count": null,
      "outputs": [
        {
          "output_type": "execute_result",
          "data": {
            "text/plain": [
              "{'Beverage',\n",
              " 'Breads',\n",
              " 'Dessert',\n",
              " 'Main Course',\n",
              " 'Rice',\n",
              " 'Snacks',\n",
              " 'Soups',\n",
              " 'South Indian',\n",
              " 'Starters'}"
            ]
          },
          "metadata": {},
          "execution_count": 27
        }
      ]
    },
    {
      "cell_type": "code",
      "source": [
        "print(\"Cuisines offered:\",len(s))"
      ],
      "metadata": {
        "colab": {
          "base_uri": "https://localhost:8080/"
        },
        "id": "hjoXhF8xayR2",
        "outputId": "43272be2-bf83-483c-ab7d-dc31d3266a72"
      },
      "execution_count": null,
      "outputs": [
        {
          "output_type": "stream",
          "name": "stdout",
          "text": [
            "Cuisines offered: 9\n"
          ]
        }
      ]
    },
    {
      "cell_type": "code",
      "source": [
        "st=0\n",
        "sn=0\n",
        "so=0\n",
        "be=0\n",
        "si=0\n",
        "br=0\n",
        "ri=0\n",
        "de=0\n",
        "mc=0\n",
        "for ls in df.values:\n",
        "  if(ls[1]==\"Starters\"):\n",
        "    st+=1\n",
        "  elif(ls[1]==\"Snacks\"):\n",
        "    sn+=1\n",
        "  elif(ls[1]==\"Soups\"):\n",
        "    so+=1\n",
        "  elif(ls[1]==\"Beverage\"):\n",
        "    be+=1\n",
        "  elif(ls[1]==\"South Indian\"):\n",
        "    si+=1\n",
        "  elif(ls[1]==\"Breads\"):\n",
        "    br+=1\n",
        "  elif(ls[1]==\"Rice\"):\n",
        "    ri+=1\n",
        "  elif(ls[1]==\"Dessert\"):\n",
        "    de+=1\n",
        "  elif(ls[1]==\"Main Course\"):\n",
        "    mc+=1\n",
        "\n",
        "print(\"Starters: \",st)\n",
        "print(\"Snacks: \",sn)\n",
        "print(\"Soups: \",so)\n",
        "print(\"Beverage: \",be)\n",
        "print(\"South Indian: \",si)\n",
        "print(\"Breads: \",br)\n",
        "print(\"Rice: \",ri)\n",
        "print(\"Dessert: \",de)\n",
        "print(\"Main Course: \",mc)\n",
        "\n"
      ],
      "metadata": {
        "colab": {
          "base_uri": "https://localhost:8080/"
        },
        "id": "KIrANL6rZ0-4",
        "outputId": "265b2aef-32ba-4124-dbfd-b3bfdcf1fb99"
      },
      "execution_count": null,
      "outputs": [
        {
          "output_type": "stream",
          "name": "stdout",
          "text": [
            "Starters:  6\n",
            "Snacks:  11\n",
            "Soups:  3\n",
            "Beverage:  5\n",
            "South Indian:  5\n",
            "Breads:  5\n",
            "Rice:  5\n",
            "Dessert:  7\n",
            "Main Course:  13\n"
          ]
        }
      ]
    },
    {
      "cell_type": "code",
      "source": [],
      "metadata": {
        "id": "7MUI8wnjptFx"
      },
      "execution_count": null,
      "outputs": []
    },
    {
      "cell_type": "markdown",
      "source": [
        "VISUALIZATION"
      ],
      "metadata": {
        "id": "EzH7R-lkp7u-"
      }
    },
    {
      "cell_type": "code",
      "source": [
        "data = {\"Starters\":  6, \"Snacks\":  11, \"Soups\":  3, \"Beverage\":  5,\"South Indian\":  5,\"Breads\":  5,\"Rice\":  5,\"Dessert\":  7,\"Main Course\":13}\n",
        "cuisines = list(data.keys())\n",
        "numbers = list(data.values())\n",
        "\n",
        "fig = plt.figure(figsize = (10, 5))\n",
        "\n",
        "# creating the bar plot\n",
        "plt.bar(cuisines, numbers, color ='maroon',width = 0.4)\n",
        "\n",
        "plt.xlabel(\"Cuisines\")\n",
        "plt.ylabel(\"No. of items\")\n",
        "plt.title(\"Items per Cuisines\")\n",
        "plt.show()"
      ],
      "metadata": {
        "colab": {
          "base_uri": "https://localhost:8080/",
          "height": 487
        },
        "id": "1M8qatL6p9gj",
        "outputId": "9637bc3f-43b1-4ed1-aeb0-1e9fc8a03bcf"
      },
      "execution_count": null,
      "outputs": [
        {
          "output_type": "display_data",
          "data": {
            "text/plain": [
              "<Figure size 1000x500 with 1 Axes>"
            ],
            "image/png": "[encoded data removed]"
          },
          "metadata": {}
        }
      ]
    },
    {
      "cell_type": "code",
      "source": [
        "df_Start=df[df['Type']==\"Starters\"]\n",
        "df_Snacks=df[df['Type']==\"Snacks\"]\n",
        "df_Soups=df[df['Type']==\"Soups\"]\n",
        "df_Beverage=df[df['Type']==\"Beverage\"]\n",
        "df_SI=df[df['Type']==\"South Indian\"]\n",
        "df_Breads=df[df['Type']==\"Breads\"]\n",
        "df_Rice=df[df['Type']==\"Rice\"]\n",
        "df_Dessert=df[df['Type']==\"Dessert\"]\n",
        "df_Main=df[df['Type']==\"Main Course\"]"
      ],
      "metadata": {
        "id": "ebD6r_oPqnSn"
      },
      "execution_count": null,
      "outputs": []
    },
    {
      "cell_type": "code",
      "source": [
        "a=df_Start['Price'].mean()\n",
        "b=df_Snacks['Price'].mean()\n",
        "c=df_Soups['Price'].mean()\n",
        "d=df_Beverage['Price'].mean()\n",
        "e=df_SI['Price'].mean()\n",
        "f=df_Breads['Price'].mean()\n",
        "g=df_Rice['Price'].mean()\n",
        "h=df_Dessert['Price'].mean()\n",
        "i=df_Main['Price'].mean()\n"
      ],
      "metadata": {
        "id": "jMhQCch_sHyT"
      },
      "execution_count": null,
      "outputs": []
    },
    {
      "cell_type": "code",
      "source": [
        "data = {\"Starters\":  a, \"Snacks\":  b, \"Soups\":  c, \"Beverage\": d,\"South Indian\":  e,\"Breads\":  f,\"Rice\": g,\"Dessert\":  h,\"Main Course\":i}\n",
        "cuisines = list(data.keys())\n",
        "numbers = list(data.values())\n",
        "\n",
        "fig = plt.figure(figsize = (10, 5))\n",
        "plt.bar(cuisines, numbers, color ='blue',width = 0.4)\n",
        "\n",
        "plt.xlabel(\"Cuisines\")\n",
        "plt.ylabel(\"Average\")\n",
        "plt.title(\"Average Cost of each Cuisines\")\n",
        "plt.show()"
      ],
      "metadata": {
        "colab": {
          "base_uri": "https://localhost:8080/",
          "height": 487
        },
        "id": "L0kr4IXbsAXA",
        "outputId": "5170d71e-51a1-4383-b590-928d66e10c7c"
      },
      "execution_count": null,
      "outputs": [
        {
          "output_type": "display_data",
          "data": {
            "text/plain": [
              "<Figure size 1000x500 with 1 Axes>"
            ],
            "image/png": "[encoded data removed]"
          },
          "metadata": {}
        }
      ]
    },
    {
      "cell_type": "code",
      "source": [
        "a=df_Start['Rating'].mean()\n",
        "b=df_Snacks['Rating'].mean()\n",
        "c=df_Soups['Rating'].mean()\n",
        "d=df_Beverage['Rating'].mean()\n",
        "e=df_SI['Rating'].mean()\n",
        "f=df_Breads['Rating'].mean()\n",
        "g=df_Rice['Rating'].mean()\n",
        "h=df_Dessert['Rating'].mean()\n",
        "i=df_Main['Rating'].mean()\n"
      ],
      "metadata": {
        "id": "jj0sr6MitZzY"
      },
      "execution_count": null,
      "outputs": []
    },
    {
      "cell_type": "code",
      "source": [
        "data = {\"Starters\":  a, \"Snacks\":  b, \"Soups\":  c, \"Beverage\": d,\"South Indian\":  e,\"Breads\":  f,\"Rice\": g,\"Dessert\":  h,\"Main Course\":i}\n",
        "cuisines = list(data.keys())\n",
        "numbers = list(data.values())\n",
        "\n",
        "fig = plt.figure(figsize = (10, 5))\n",
        "plt.bar(cuisines, numbers, color ='blue',width = 0.4)\n",
        "\n",
        "plt.xlabel(\"Cuisines\")\n",
        "plt.ylabel(\"Average\")\n",
        "plt.title(\"Average Rating of each Cuisines\")\n",
        "plt.show()"
      ],
      "metadata": {
        "colab": {
          "base_uri": "https://localhost:8080/",
          "height": 487
        },
        "id": "_YMSRPEqqkTi",
        "outputId": "d955e4f8-e4d4-4df4-81cf-6f7910ed20ae"
      },
      "execution_count": null,
      "outputs": [
        {
          "output_type": "display_data",
          "data": {
            "text/plain": [
              "<Figure size 1000x500 with 1 Axes>"
            ],
            "image/png": "[encoded data removed]"
          },
          "metadata": {}
        }
      ]
    },
    {
      "cell_type": "code",
      "source": [
        "a=df_Start['Rating'].min()\n",
        "b=df_Snacks['Rating'].min()\n",
        "c=df_Soups['Rating'].min()\n",
        "d=df_Beverage['Rating'].min()\n",
        "e=df_SI['Rating'].min()\n",
        "f=df_Breads['Rating'].min()\n",
        "g=df_Rice['Rating'].min()\n",
        "h=df_Dessert['Rating'].min()\n",
        "i=df_Main['Rating'].min()\n"
      ],
      "metadata": {
        "id": "HOnlbStotq7V"
      },
      "execution_count": null,
      "outputs": []
    },
    {
      "cell_type": "code",
      "source": [
        "data = {\"Starters\":  a, \"Snacks\":  b, \"Soups\":  c, \"Beverage\": d,\"South Indian\":  e,\"Breads\":  f,\"Rice\": g,\"Dessert\":  h,\"Main Course\":i}\n",
        "cuisines = list(data.keys())\n",
        "numbers = list(data.values())\n",
        "\n",
        "fig = plt.figure(figsize = (10, 5))\n",
        "\n",
        "# creating the bar plot\n",
        "plt.bar(cuisines, numbers, color ='red',width = 0.4)\n",
        "\n",
        "plt.xlabel(\"Cuisines\")\n",
        "plt.ylabel(\"Average\")\n",
        "plt.title(\"Min Rating of each Cuisines\")\n",
        "plt.show()"
      ],
      "metadata": {
        "colab": {
          "base_uri": "https://localhost:8080/",
          "height": 487
        },
        "id": "PvW-TV0ZuAhQ",
        "outputId": "110fda4b-b977-43f4-d2be-6193b0e557c5"
      },
      "execution_count": null,
      "outputs": [
        {
          "output_type": "display_data",
          "data": {
            "text/plain": [
              "<Figure size 1000x500 with 1 Axes>"
            ],
            "image/png": "[encoded data removed]"
          },
          "metadata": {}
        }
      ]
    },
    {
      "cell_type": "code",
      "source": [
        "a=df_Start['Price'].max()\n",
        "b=df_Snacks['Price'].max()\n",
        "c=df_Soups['Price'].max()\n",
        "d=df_Beverage['Price'].max()\n",
        "e=df_SI['Price'].max()\n",
        "f=df_Breads['Price'].max()\n",
        "g=df_Rice['Price'].max()\n",
        "h=df_Dessert['Price'].max()\n",
        "i=df_Main['Price'].max()\n"
      ],
      "metadata": {
        "id": "s5QSIlduuEeF"
      },
      "execution_count": null,
      "outputs": []
    },
    {
      "cell_type": "code",
      "source": [
        "data = {\"Starters\":  a, \"Snacks\":  b, \"Soups\":  c, \"Beverage\": d,\"South Indian\":  e,\"Breads\":  f,\"Rice\": g,\"Dessert\":  h,\"Main Course\":i}\n",
        "cuisines = list(data.keys())\n",
        "numbers = list(data.values())\n",
        "\n",
        "fig = plt.figure(figsize = (10, 5))\n",
        "\n",
        "# creating the bar plot\n",
        "plt.bar(cuisines, numbers, color ='green',width = 0.4)\n",
        "\n",
        "plt.xlabel(\"Cuisines\")\n",
        "plt.ylabel(\"Average\")\n",
        "plt.title(\"Max Price of each Cuisines\")\n",
        "plt.show()"
      ],
      "metadata": {
        "colab": {
          "base_uri": "https://localhost:8080/",
          "height": 487
        },
        "id": "qjpL1YfGuMSx",
        "outputId": "65adfc14-03f0-4130-a053-48570fd47a55"
      },
      "execution_count": null,
      "outputs": [
        {
          "output_type": "display_data",
          "data": {
            "text/plain": [
              "<Figure size 1000x500 with 1 Axes>"
            ],
            "image/png": "[encoded data removed]"
          },
          "metadata": {}
        }
      ]
    },
    {
      "cell_type": "markdown",
      "source": [
        "RECOMMENDATION"
      ],
      "metadata": {
        "id": "EZwtCrSt1s_8"
      }
    },
    {
      "cell_type": "code",
      "source": [
        "import numpy as np\n",
        "from sklearn.metrics.pairwise import cosine_similarity\n",
        "one=[]\n",
        "two=[]\n",
        "for l in df.values:\n",
        "  one.append(l[0])\n",
        "  two.append([l[2],l[3]])\n",
        "\n",
        "\n"
      ],
      "metadata": {
        "id": "zrirUb2B1xqt"
      },
      "execution_count": null,
      "outputs": []
    },
    {
      "cell_type": "code",
      "source": [
        "print(two)"
      ],
      "metadata": {
        "colab": {
          "base_uri": "https://localhost:8080/"
        },
        "id": "lCQGEinY_xaE",
        "outputId": "3be86864-1067-4e0e-a211-6c85967c8757"
      },
      "execution_count": null,
      "outputs": [
        {
          "output_type": "stream",
          "name": "stdout",
          "text": [
            "[[180, 4.0], [200, 4.6], [180, 4.8], [220, 4.9], [160, 4.4], [180, 4.0], [100, 3.9], [20, 4.5], [150, 5.0], [20, 4.8], [50, 4.8], [160, 4.0], [180, 4.2], [200, 4.2], [220, 4.5], [220, 4.5], [50, 5.0], [80, 4.8], [80, 4.8], [80, 4.8], [80, 5.0], [50, 5.0], [50, 4.5], [50, 4.8], [50, 3.0], [120, 4.5], [100, 4.8], [80, 4.7], [70, 4.9], [120, 5.0], [25, 5.0], [20, 5.0], [25, 5.0], [15, 5.0], [25, 4.8], [100, 4.8], [75, 4.7], [150, 4.8], [180, 5.0], [150, 4.8], [30, 5.0], [30, 5.0], [70, 5.0], [50, 4.5], [50, 4.5], [25, 4.5], [30, 4.8], [200, 4.5], [220, 4.6], [180, 4.8], [140, 4.8], [140, 4.0], [150, 3.8], [180, 5.0], [180, 5.0], [150, 4.8], [150, 4.8], [200, 5.0], [180, 5.0], [150, 4.0]]\n"
          ]
        }
      ]
    },
    {
      "cell_type": "code",
      "source": [
        "print(one)"
      ],
      "metadata": {
        "colab": {
          "base_uri": "https://localhost:8080/"
        },
        "id": "Q4BO_JQJ_zO3",
        "outputId": "3d7d392c-8b60-426c-c9ee-727e38f517b0"
      },
      "execution_count": null,
      "outputs": [
        {
          "output_type": "stream",
          "name": "stdout",
          "text": [
            "['Chilli Potato', 'Mushroom 65', 'Hara Bhara Kebab', 'Paneer Tikka', 'Crispy Corn', 'Veg Momos', 'Pani Puri', 'Samosa', 'Chole Bhature', 'Kachori', 'Vada Pao', 'Pav Bhaji', 'Burger', 'Noodles', 'Red Sauce Pasta', 'White Sauce Pasta', 'Veg Maggie', 'Tomato Soup', 'Sweet Corn Soup', 'Veg Manchaw', 'Fresh Lime Soda', 'Pepsi', 'Coke', 'Fanta', '7 up', 'Masala Dosa', 'Plain Dosa', 'Idli Vada', 'Vada', 'Uthappam', 'Naan', 'Tandoori Roti', 'Rumali Roti', 'Tawa Roti', 'Kulcha', 'Jeera Rice', 'Plain Rice', 'Fried Rice', 'Biryani', 'Pulao', 'Gulab Jamun', 'Rasgulla', 'Rasmalai', 'Gajar Halwa', 'Moong Dal Halwa', 'Ice Cream', 'Kulfi Faluda', 'Kadai Paneer', 'Shahi Paneer', 'Manchoorian', 'Aloo Gobi', 'Mixed Veg', 'Ladyfinger', 'Chole', 'Rajma', 'Tuar Dal', 'Moong Dal', 'Chilli Paneer', 'Veg Kofta', 'Mashroom Peas']\n"
          ]
        }
      ]
    },
    {
      "cell_type": "code",
      "source": [
        "item_features=dict(zip(one,two))\n",
        "print(item_features)"
      ],
      "metadata": {
        "colab": {
          "base_uri": "https://localhost:8080/"
        },
        "id": "_Xa2okIs_48E",
        "outputId": "50424284-9f5c-439c-9429-b3a70b83b16c"
      },
      "execution_count": null,
      "outputs": [
        {
          "output_type": "stream",
          "name": "stdout",
          "text": [
            "{'Chilli Potato': [180, 4.0], 'Mushroom 65': [200, 4.6], 'Hara Bhara Kebab': [180, 4.8], 'Paneer Tikka': [220, 4.9], 'Crispy Corn': [160, 4.4], 'Veg Momos': [180, 4.0], 'Pani Puri': [100, 3.9], 'Samosa': [20, 4.5], 'Chole Bhature': [150, 5.0], 'Kachori': [20, 4.8], 'Vada Pao': [50, 4.8], 'Pav Bhaji': [160, 4.0], 'Burger': [180, 4.2], 'Noodles': [200, 4.2], 'Red Sauce Pasta': [220, 4.5], 'White Sauce Pasta': [220, 4.5], 'Veg Maggie': [50, 5.0], 'Tomato Soup': [80, 4.8], 'Sweet Corn Soup': [80, 4.8], 'Veg Manchaw': [80, 4.8], 'Fresh Lime Soda': [80, 5.0], 'Pepsi': [50, 5.0], 'Coke': [50, 4.5], 'Fanta': [50, 4.8], '7 up': [50, 3.0], 'Masala Dosa': [120, 4.5], 'Plain Dosa': [100, 4.8], 'Idli Vada': [80, 4.7], 'Vada': [70, 4.9], 'Uthappam': [120, 5.0], 'Naan': [25, 5.0], 'Tandoori Roti': [20, 5.0], 'Rumali Roti': [25, 5.0], 'Tawa Roti': [15, 5.0], 'Kulcha': [25, 4.8], 'Jeera Rice': [100, 4.8], 'Plain Rice': [75, 4.7], 'Fried Rice': [150, 4.8], 'Biryani': [180, 5.0], 'Pulao': [150, 4.8], 'Gulab Jamun': [30, 5.0], 'Rasgulla': [30, 5.0], 'Rasmalai': [70, 5.0], 'Gajar Halwa': [50, 4.5], 'Moong Dal Halwa': [50, 4.5], 'Ice Cream': [25, 4.5], 'Kulfi Faluda': [30, 4.8], 'Kadai Paneer': [200, 4.5], 'Shahi Paneer': [220, 4.6], 'Manchoorian': [180, 4.8], 'Aloo Gobi': [140, 4.8], 'Mixed Veg': [140, 4.0], 'Ladyfinger': [150, 3.8], 'Chole': [180, 5.0], 'Rajma': [180, 5.0], 'Tuar Dal': [150, 4.8], 'Moong Dal': [150, 4.8], 'Chilli Paneer': [200, 5.0], 'Veg Kofta': [180, 5.0], 'Mashroom Peas': [150, 4.0]}\n"
          ]
        }
      ]
    },
    {
      "cell_type": "code",
      "source": [
        "feature_matrix = np.array([item_features[item] for item in item_features])\n",
        "def calculate_item_similarity(features):\n",
        "    item_similarity = cosine_similarity(features)\n",
        "    return item_similarity\n",
        "def generate_similar_items(item_name, features, item_similarity, num_recommendations=5):\n",
        "    item_idx = list(item_features.keys()).index(item_name)\n",
        "    item_scores = item_similarity[item_idx]\n",
        "    recommended_indices = np.argsort(item_scores)[::-1][:num_recommendations]\n",
        "    return [list(item_features.keys())[idx] for idx in recommended_indices]"
      ],
      "metadata": {
        "id": "-IRWjHVQ6Y8h"
      },
      "execution_count": null,
      "outputs": []
    },
    {
      "cell_type": "code",
      "source": [],
      "metadata": {
        "id": "_Al3fImZAIqm"
      },
      "execution_count": null,
      "outputs": []
    },
    {
      "cell_type": "code",
      "source": [
        "input_item = 'Noodles'\n",
        "item_similarity = calculate_item_similarity(feature_matrix)\n",
        "recommended_items = generate_similar_items(input_item, feature_matrix, item_similarity)\n",
        "\n",
        "print(\"Items similar to '{}':\".format(input_item))\n",
        "for item in recommended_items:\n",
        "  print(item)"
      ],
      "metadata": {
        "colab": {
          "base_uri": "https://localhost:8080/"
        },
        "id": "0T57mayK4wwI",
        "outputId": "5778114c-6a2d-4da9-8e54-e3b9811b762d"
      },
      "execution_count": null,
      "outputs": [
        {
          "output_type": "stream",
          "name": "stdout",
          "text": [
            "Items similar to 'Noodles':\n",
            "Noodles\n",
            "Shahi Paneer\n",
            "White Sauce Pasta\n",
            "Red Sauce Pasta\n",
            "Chilli Potato\n"
          ]
        }
      ]
    },
    {
      "cell_type": "code",
      "source": [
        "import numpy as np\n",
        "from sklearn.metrics.pairwise import cosine_similarity\n",
        "one=[]\n",
        "two=[]\n",
        "for l in df.values:\n",
        "  one.append(l[0])\n",
        "  two.append([l[2],l[3],l[1]])\n",
        "\n",
        "\n"
      ],
      "metadata": {
        "id": "sbW0NxRGCrMh"
      },
      "execution_count": null,
      "outputs": []
    },
    {
      "cell_type": "code",
      "source": [
        "dc=dict(zip(one,two))"
      ],
      "metadata": {
        "id": "8Bftg4GJC1Zy"
      },
      "execution_count": null,
      "outputs": []
    },
    {
      "cell_type": "code",
      "source": [
        "print(dc)"
      ],
      "metadata": {
        "colab": {
          "base_uri": "https://localhost:8080/"
        },
        "id": "EE-DL_-dC4ah",
        "outputId": "f42636b9-02b8-4769-a7fc-960577d1d5fd"
      },
      "execution_count": null,
      "outputs": [
        {
          "output_type": "stream",
          "name": "stdout",
          "text": [
            "{'Chilli Potato': [180, 4.0, 'Starters'], 'Mushroom 65': [200, 4.6, 'Starters'], 'Hara Bhara Kebab': [180, 4.8, 'Starters'], 'Paneer Tikka': [220, 4.9, 'Starters'], 'Crispy Corn': [160, 4.4, 'Starters'], 'Veg Momos': [180, 4.0, 'Starters'], 'Pani Puri': [100, 3.9, 'Snacks'], 'Samosa': [20, 4.5, 'Snacks'], 'Chole Bhature': [150, 5.0, 'Snacks'], 'Kachori': [20, 4.8, 'Snacks'], 'Vada Pao': [50, 4.8, 'Snacks'], 'Pav Bhaji': [160, 4.0, 'Snacks'], 'Burger': [180, 4.2, 'Snacks'], 'Noodles': [200, 4.2, 'Snacks'], 'Red Sauce Pasta': [220, 4.5, 'Snacks'], 'White Sauce Pasta': [220, 4.5, 'Snacks'], 'Veg Maggie': [50, 5.0, 'Snacks'], 'Tomato Soup': [80, 4.8, 'Soups'], 'Sweet Corn Soup': [80, 4.8, 'Soups'], 'Veg Manchaw': [80, 4.8, 'Soups'], 'Fresh Lime Soda': [80, 5.0, 'Beverage'], 'Pepsi': [50, 5.0, 'Beverage'], 'Coke': [50, 4.5, 'Beverage'], 'Fanta': [50, 4.8, 'Beverage'], '7 up': [50, 3.0, 'Beverage'], 'Masala Dosa': [120, 4.5, 'South Indian'], 'Plain Dosa': [100, 4.8, 'South Indian'], 'Idli Vada': [80, 4.7, 'South Indian'], 'Vada': [70, 4.9, 'South Indian'], 'Uthappam': [120, 5.0, 'South Indian'], 'Naan': [25, 5.0, 'Breads'], 'Tandoori Roti': [20, 5.0, 'Breads'], 'Rumali Roti': [25, 5.0, 'Breads'], 'Tawa Roti': [15, 5.0, 'Breads'], 'Kulcha': [25, 4.8, 'Breads'], 'Jeera Rice': [100, 4.8, 'Rice'], 'Plain Rice': [75, 4.7, 'Rice'], 'Fried Rice': [150, 4.8, 'Rice'], 'Biryani': [180, 5.0, 'Rice'], 'Pulao': [150, 4.8, 'Rice'], 'Gulab Jamun': [30, 5.0, 'Dessert'], 'Rasgulla': [30, 5.0, 'Dessert'], 'Rasmalai': [70, 5.0, 'Dessert'], 'Gajar Halwa': [50, 4.5, 'Dessert'], 'Moong Dal Halwa': [50, 4.5, 'Dessert'], 'Ice Cream': [25, 4.5, 'Dessert'], 'Kulfi Faluda': [30, 4.8, 'Dessert'], 'Kadai Paneer': [200, 4.5, 'Main Course'], 'Shahi Paneer': [220, 4.6, 'Main Course'], 'Manchoorian': [180, 4.8, 'Main Course'], 'Aloo Gobi': [140, 4.8, 'Main Course'], 'Mixed Veg': [140, 4.0, 'Main Course'], 'Ladyfinger': [150, 3.8, 'Main Course'], 'Chole': [180, 5.0, 'Main Course'], 'Rajma': [180, 5.0, 'Main Course'], 'Tuar Dal': [150, 4.8, 'Main Course'], 'Moong Dal': [150, 4.8, 'Main Course'], 'Chilli Paneer': [200, 5.0, 'Main Course'], 'Veg Kofta': [180, 5.0, 'Main Course'], 'Mashroom Peas': [150, 4.0, 'Main Course']}\n"
          ]
        }
      ]
    },
    {
      "cell_type": "code",
      "source": [
        "recommended_items.remove(input_item)\n",
        "\n",
        "types=dc[input_item][2]\n",
        "for i in recommended_items:\n",
        "  if(dc[i][2]==types):\n",
        "    print(i)\n"
      ],
      "metadata": {
        "colab": {
          "base_uri": "https://localhost:8080/"
        },
        "id": "WdPTPcEBC50-",
        "outputId": "d6d1fba1-a060-444e-9ce4-727a1dd85916"
      },
      "execution_count": null,
      "outputs": [
        {
          "output_type": "stream",
          "name": "stdout",
          "text": [
            "White Sauce Pasta\n",
            "Red Sauce Pasta\n"
          ]
        }
      ]
    }
  ]
}